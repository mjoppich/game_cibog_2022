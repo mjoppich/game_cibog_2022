{
 "cells": [
  {
   "cell_type": "markdown",
   "metadata": {},
   "source": [
    "This notebook will download all data. We assume the working directory is the root cibog dir!"
   ]
  },
  {
   "cell_type": "code",
   "execution_count": 2,
   "metadata": {},
   "outputs": [],
   "source": [
    "import os\n",
    "from IPython.display import Image\n",
    "\n",
    "\n",
    "if os.getcwd().endswith(\"code\"):\n",
    "    os.chdir(\"..\")\n"
   ]
  },
  {
   "cell_type": "code",
   "execution_count": 18,
   "metadata": {},
   "outputs": [
    {
     "name": "stdout",
     "output_type": "stream",
     "text": [
      "/mnt/w/game_cibog\n"
     ]
    }
   ],
   "source": [
    "! pwd"
   ]
  },
  {
   "cell_type": "markdown",
   "metadata": {},
   "source": [
    "# Install sratoolkit to download SRA-hosted sequencing data\n",
    "\n",
    "For this we first need to install sratoolkit for downloading SRA-hosted files."
   ]
  },
  {
   "cell_type": "code",
   "execution_count": null,
   "metadata": {},
   "outputs": [],
   "source": [
    "! wget --output-document tools/sratoolkit.tar.gz http://ftp-trace.ncbi.nlm.nih.gov/sra/sdk/current/sratoolkit.current-ubuntu64.tar.gz\n",
    "\n",
    "! cd tools && tar -vxzf sratoolkit.tar.gz"
   ]
  },
  {
   "cell_type": "markdown",
   "metadata": {},
   "source": [
    "Briefly run vdb-config and exit without changes"
   ]
  },
  {
   "cell_type": "code",
   "execution_count": null,
   "metadata": {},
   "outputs": [],
   "source": [
    "! vdb-config --interactive"
   ]
  },
  {
   "cell_type": "markdown",
   "metadata": {},
   "source": []
  },
  {
   "cell_type": "markdown",
   "metadata": {},
   "source": []
  },
  {
   "cell_type": "markdown",
   "metadata": {},
   "source": [
    "# Downloading and preparing data"
   ]
  },
  {
   "cell_type": "markdown",
   "metadata": {},
   "source": [
    "## Bulk Data"
   ]
  },
  {
   "cell_type": "markdown",
   "metadata": {},
   "source": [
    "## Downloading and processing bulk data from reads"
   ]
  },
  {
   "cell_type": "markdown",
   "metadata": {},
   "source": [
    "In order to be able to process the bulk data from reads we need several softwares and references.\n",
    "\n",
    "Make sure to install hisat2 and samtools (e.g. sudo apt-get install hisat2/samtools in Ubuntu).\n",
    "\n",
    "We also need featureCounts which is part of the subreads package: https://sourceforge.net/projects/subread/files/subread-2.0.3/ . Also make sure install a copy of that :)"
   ]
  },
  {
   "cell_type": "code",
   "execution_count": 10,
   "metadata": {},
   "outputs": [
    {
     "name": "stdout",
     "output_type": "stream",
     "text": [
      "--2022-01-19 13:41:23--  https://jztkft.dl.sourceforge.net/project/subread/subread-2.0.3/subread-2.0.3-source.tar.gz\n",
      "Resolving jztkft.dl.sourceforge.net (jztkft.dl.sourceforge.net)... 45.67.159.245\n",
      "Connecting to jztkft.dl.sourceforge.net (jztkft.dl.sourceforge.net)|45.67.159.245|:443... connected.\n",
      "HTTP request sent, awaiting response... 200 OK\n",
      "Length: 23304665 (22M) [application/x-gzip]\n",
      "Saving to: ‘subread-2.0.3-source.tar.gz’\n",
      "\n",
      "subread-2.0.3-sourc 100%[===================>]  22.22M  3.89MB/s    in 5.8s    \n",
      "\n",
      "2022-01-19 13:41:29 (3.81 MB/s) - ‘subread-2.0.3-source.tar.gz’ saved [23304665/23304665]\n",
      "\n"
     ]
    }
   ],
   "source": [
    "! cd tools && wget -O subread-2.0.3-source.tar.gz https://jztkft.dl.sourceforge.net/project/subread/subread-2.0.3/subread-2.0.3-source.tar.gz"
   ]
  },
  {
   "cell_type": "markdown",
   "metadata": {},
   "source": [
    "Extract the subread-archive in the tools folder:"
   ]
  },
  {
   "cell_type": "code",
   "execution_count": 11,
   "metadata": {},
   "outputs": [],
   "source": [
    "! cd tools && tar xfz subread-2.0.3-source.tar.gz"
   ]
  },
  {
   "cell_type": "markdown",
   "metadata": {},
   "source": [
    "And build the subread package:"
   ]
  },
  {
   "cell_type": "code",
   "execution_count": 12,
   "metadata": {},
   "outputs": [
    {
     "name": "stdout",
     "output_type": "stream",
     "text": [
      "gcc  -mtune=core2  -O3 -DMAKE_FOR_EXON  -D MAKE_STANDALONE -D SUBREAD_VERSION=\\\"\"2.0.3\"\\\"  -D_FILE_OFFSET_BITS=64    -fmessage-length=0  -ggdb     -c -o core.o core.c\n",
      "gcc  -mtune=core2  -O3 -DMAKE_FOR_EXON  -D MAKE_STANDALONE -D SUBREAD_VERSION=\\\"\"2.0.3\"\\\"  -D_FILE_OFFSET_BITS=64    -fmessage-length=0  -ggdb     -c -o core-junction.o core-junction.c\n",
      "gcc  -mtune=core2  -O3 -DMAKE_FOR_EXON  -D MAKE_STANDALONE -D SUBREAD_VERSION=\\\"\"2.0.3\"\\\"  -D_FILE_OFFSET_BITS=64    -fmessage-length=0  -ggdb     -c -o core-indel.o core-indel.c\n",
      "gcc  -mtune=core2  -O3 -DMAKE_FOR_EXON  -D MAKE_STANDALONE -D SUBREAD_VERSION=\\\"\"2.0.3\"\\\"  -D_FILE_OFFSET_BITS=64    -fmessage-length=0  -ggdb     -c -o sambam-file.o sambam-file.c\n",
      "gcc  -mtune=core2  -O3 -DMAKE_FOR_EXON  -D MAKE_STANDALONE -D SUBREAD_VERSION=\\\"\"2.0.3\"\\\"  -D_FILE_OFFSET_BITS=64    -fmessage-length=0  -ggdb     -c -o sublog.o sublog.c\n",
      "gcc  -mtune=core2  -O3 -DMAKE_FOR_EXON  -D MAKE_STANDALONE -D SUBREAD_VERSION=\\\"\"2.0.3\"\\\"  -D_FILE_OFFSET_BITS=64    -fmessage-length=0  -ggdb     -c -o gene-algorithms.o gene-algorithms.c\n",
      "\u001b[01m\u001b[Kgene-algorithms.c:\u001b[m\u001b[K In function ‘\u001b[01m\u001b[Kmiltime\u001b[m\u001b[K’:\n",
      "\u001b[01m\u001b[Kgene-algorithms.c:1585:3:\u001b[m\u001b[K \u001b[01;35m\u001b[Kwarning: \u001b[m\u001b[K‘\u001b[01m\u001b[Kftime\u001b[m\u001b[K’ is deprecated [\u001b[01;35m\u001b[K-Wdeprecated-declarations\u001b[m\u001b[K]\n",
      " 1585 |   \u001b[01;35m\u001b[Kftime\u001b[m\u001b[K(&trp);\n",
      "      |   \u001b[01;35m\u001b[K^~~~~\u001b[m\u001b[K\n",
      "In file included from \u001b[01m\u001b[Kgene-algorithms.c:33\u001b[m\u001b[K:\n",
      "\u001b[01m\u001b[K/usr/include/x86_64-linux-gnu/sys/timeb.h:39:12:\u001b[m\u001b[K \u001b[01;36m\u001b[Knote: \u001b[m\u001b[Kdeclared here\n",
      "   39 | extern int \u001b[01;36m\u001b[Kftime\u001b[m\u001b[K (struct timeb *__timebuf)\n",
      "      |            \u001b[01;36m\u001b[K^~~~~\u001b[m\u001b[K\n",
      "gcc  -mtune=core2  -O3 -DMAKE_FOR_EXON  -D MAKE_STANDALONE -D SUBREAD_VERSION=\\\"\"2.0.3\"\\\"  -D_FILE_OFFSET_BITS=64    -fmessage-length=0  -ggdb     -c -o hashtable.o hashtable.c\n",
      "gcc  -mtune=core2  -O3 -DMAKE_FOR_EXON  -D MAKE_STANDALONE -D SUBREAD_VERSION=\\\"\"2.0.3\"\\\"  -D_FILE_OFFSET_BITS=64    -fmessage-length=0  -ggdb     -c -o input-files.o input-files.c\n",
      "gcc  -mtune=core2  -O3 -DMAKE_FOR_EXON  -D MAKE_STANDALONE -D SUBREAD_VERSION=\\\"\"2.0.3\"\\\"  -D_FILE_OFFSET_BITS=64    -fmessage-length=0  -ggdb     -c -o sorted-hashtable.o sorted-hashtable.c\n",
      "gcc  -mtune=core2  -O3 -DMAKE_FOR_EXON  -D MAKE_STANDALONE -D SUBREAD_VERSION=\\\"\"2.0.3\"\\\"  -D_FILE_OFFSET_BITS=64    -fmessage-length=0  -ggdb     -c -o gene-value-index.o gene-value-index.c\n",
      "gcc  -mtune=core2  -O3 -DMAKE_FOR_EXON  -D MAKE_STANDALONE -D SUBREAD_VERSION=\\\"\"2.0.3\"\\\"  -D_FILE_OFFSET_BITS=64    -fmessage-length=0  -ggdb     -c -o exon-algorithms.o exon-algorithms.c\n",
      "gcc  -mtune=core2  -O3 -DMAKE_FOR_EXON  -D MAKE_STANDALONE -D SUBREAD_VERSION=\\\"\"2.0.3\"\\\"  -D_FILE_OFFSET_BITS=64    -fmessage-length=0  -ggdb     -c -o HelperFunctions.o HelperFunctions.c\n",
      "gcc  -mtune=core2  -O3 -DMAKE_FOR_EXON  -D MAKE_STANDALONE -D SUBREAD_VERSION=\\\"\"2.0.3\"\\\"  -D_FILE_OFFSET_BITS=64    -fmessage-length=0  -ggdb     -c -o interval_merge.o interval_merge.c\n",
      "gcc  -mtune=core2  -O3 -DMAKE_FOR_EXON  -D MAKE_STANDALONE -D SUBREAD_VERSION=\\\"\"2.0.3\"\\\"  -D_FILE_OFFSET_BITS=64    -fmessage-length=0  -ggdb     -c -o long-hashtable.o long-hashtable.c\n",
      "gcc  -mtune=core2  -O3 -DMAKE_FOR_EXON  -D MAKE_STANDALONE -D SUBREAD_VERSION=\\\"\"2.0.3\"\\\"  -D_FILE_OFFSET_BITS=64    -fmessage-length=0  -ggdb     -c -o core-bigtable.o core-bigtable.c\n",
      "gcc  -mtune=core2  -O3 -DMAKE_FOR_EXON  -D MAKE_STANDALONE -D SUBREAD_VERSION=\\\"\"2.0.3\"\\\"  -D_FILE_OFFSET_BITS=64    -fmessage-length=0  -ggdb     -c -o seek-zlib.o seek-zlib.c\n",
      "gcc  -mtune=core2  -O3 -DMAKE_FOR_EXON  -D MAKE_STANDALONE -D SUBREAD_VERSION=\\\"\"2.0.3\"\\\"  -D_FILE_OFFSET_BITS=64    -fmessage-length=0  -ggdb     -c -o input-blc.o input-blc.c\n",
      "gcc  -mtune=core2  -O3 -DMAKE_FOR_EXON  -D MAKE_STANDALONE -D SUBREAD_VERSION=\\\"\"2.0.3\"\\\"  -D_FILE_OFFSET_BITS=64    -fmessage-length=0  -ggdb  -o genRandomReads gen_rand_reads.c core.o core-junction.o core-indel.o sambam-file.o sublog.o gene-algorithms.o hashtable.o input-files.o sorted-hashtable.o gene-value-index.o exon-algorithms.o HelperFunctions.o interval_merge.o long-hashtable.o core-bigtable.o seek-zlib.o input-blc.o  -pthread -lz  -O3 -DMAKE_FOR_EXON -D MAKE_STANDALONE -lm\n",
      "gcc  -mtune=core2  -O3 -DMAKE_FOR_EXON  -D MAKE_STANDALONE -D SUBREAD_VERSION=\\\"\"2.0.3\"\\\"  -D_FILE_OFFSET_BITS=64    -fmessage-length=0  -ggdb  -o detectionCall detection-calls.c  core.o core-junction.o core-indel.o sambam-file.o sublog.o gene-algorithms.o hashtable.o input-files.o sorted-hashtable.o gene-value-index.o exon-algorithms.o HelperFunctions.o interval_merge.o long-hashtable.o core-bigtable.o seek-zlib.o input-blc.o  -pthread -lz  -O3 -DMAKE_FOR_EXON -D MAKE_STANDALONE -lm\n",
      "echo \" \" > longread-one/make.version\n",
      "gcc  -mtune=core2  -O3 -DMAKE_FOR_EXON  -D MAKE_STANDALONE -D SUBREAD_VERSION=\\\"\"2.0.3\"\\\"  -D_FILE_OFFSET_BITS=64    -fmessage-length=0  -ggdb  -o repair read-repair.c  core.o core-junction.o core-indel.o sambam-file.o sublog.o gene-algorithms.o hashtable.o input-files.o sorted-hashtable.o gene-value-index.o exon-algorithms.o HelperFunctions.o interval_merge.o long-hashtable.o core-bigtable.o seek-zlib.o input-blc.o  -pthread -lz  -O3 -DMAKE_FOR_EXON -D MAKE_STANDALONE -lm\n",
      "rm -f longread-one/*.o\n",
      "cd longread-one && make\n",
      "make[1]: Entering directory '/mnt/w/game_cibog/tools/subread-2.0.3-source/src/longread-one'\n",
      "make[1]: Warning: File 'make.version' has modification time 0.6 s in the future\n",
      "gcc  -mtune=core2  -O3 -Wall  -DMAKE_FOR_EXON  -D MAKE_STANDALONE  -D_FILE_OFFSET_BITS=64 -DSUBREAD_VERSION=\\\"\"2.0.3\"\\\"    -fmessage-length=0  -ggdb -o LRMsorted-hashtable.o -c LRMsorted-hashtable.c\n",
      "gcc  -mtune=core2  -O3 -Wall  -DMAKE_FOR_EXON  -D MAKE_STANDALONE  -D_FILE_OFFSET_BITS=64 -DSUBREAD_VERSION=\\\"\"2.0.3\"\\\"    -fmessage-length=0  -ggdb -o LRMbase-index.o -c LRMbase-index.c\n",
      "gcc  -mtune=core2  -O3 -Wall  -DMAKE_FOR_EXON  -D MAKE_STANDALONE  -D_FILE_OFFSET_BITS=64 -DSUBREAD_VERSION=\\\"\"2.0.3\"\\\"    -fmessage-length=0  -ggdb -o LRMchro-event.o -c LRMchro-event.c\n",
      "gcc  -mtune=core2  -O3 -DMAKE_FOR_EXON  -D MAKE_STANDALONE -D SUBREAD_VERSION=\\\"\"2.0.3\"\\\"  -D_FILE_OFFSET_BITS=64    -fmessage-length=0  -ggdb  -o txUnique tx-unique.c  core.o core-junction.o core-indel.o sambam-file.o sublog.o gene-algorithms.o hashtable.o input-files.o sorted-hashtable.o gene-value-index.o exon-algorithms.o HelperFunctions.o interval_merge.o long-hashtable.o core-bigtable.o seek-zlib.o input-blc.o  -pthread -lz  -O3 -DMAKE_FOR_EXON -D MAKE_STANDALONE -lm\n",
      "gcc  -mtune=core2  -O3 -Wall  -DMAKE_FOR_EXON  -D MAKE_STANDALONE  -D_FILE_OFFSET_BITS=64 -DSUBREAD_VERSION=\\\"\"2.0.3\"\\\"    -fmessage-length=0  -ggdb -o LRMhelper.o -c LRMhelper.c\n",
      "gcc  -mtune=core2  -O3 -DMAKE_FOR_EXON  -D MAKE_STANDALONE -D SUBREAD_VERSION=\\\"\"2.0.3\"\\\"  -D_FILE_OFFSET_BITS=64    -fmessage-length=0  -ggdb  -o featureCounts readSummary.c core.o core-junction.o core-indel.o sambam-file.o sublog.o gene-algorithms.o hashtable.o input-files.o sorted-hashtable.o gene-value-index.o exon-algorithms.o HelperFunctions.o interval_merge.o long-hashtable.o core-bigtable.o seek-zlib.o input-blc.o  -pthread -lz  -O3 -DMAKE_FOR_EXON -D MAKE_STANDALONE -lm\n",
      "gcc  -mtune=core2  -O3 -Wall  -DMAKE_FOR_EXON  -D MAKE_STANDALONE  -D_FILE_OFFSET_BITS=64 -DSUBREAD_VERSION=\\\"\"2.0.3\"\\\"    -fmessage-length=0  -ggdb -o LRMseek-zlib.o -c LRMseek-zlib.c\n",
      "gcc  -mtune=core2  -O3 -DMAKE_FOR_EXON  -D MAKE_STANDALONE -D SUBREAD_VERSION=\\\"\"2.0.3\"\\\"  -D_FILE_OFFSET_BITS=64    -fmessage-length=0  -ggdb  -o  removeDup removeDupReads.c  core.o core-junction.o core-indel.o sambam-file.o sublog.o gene-algorithms.o hashtable.o input-files.o sorted-hashtable.o gene-value-index.o exon-algorithms.o HelperFunctions.o interval_merge.o long-hashtable.o core-bigtable.o seek-zlib.o input-blc.o  -pthread -lz  -O3 -DMAKE_FOR_EXON -D MAKE_STANDALONE -lm\n",
      "\u001b[01m\u001b[KreadSummary.c:\u001b[m\u001b[K In function ‘\u001b[01m\u001b[Kfc_thread_merge_results\u001b[m\u001b[K’:\n",
      "\u001b[01m\u001b[KreadSummary.c:6105:5:\u001b[m\u001b[K \u001b[01;35m\u001b[Kwarning: \u001b[m\u001b[Kignoring return value of ‘\u001b[01m\u001b[Kfread\u001b[m\u001b[K’, declared with attribute warn_unused_result [\u001b[01;35m\u001b[K-Wunused-result\u001b[m\u001b[K]\n",
      " 6105 |     \u001b[01;35m\u001b[Kfread(&section1_items,1, 8, input_fps[xk1])\u001b[m\u001b[K;\n",
      "      |     \u001b[01;35m\u001b[K^~~~~~~~~~~~~~~~~~~~~~~~~~~~~~~~~~~~~~~~~~~\u001b[m\u001b[K\n",
      "\u001b[01m\u001b[KreadSummary.c:6108:6:\u001b[m\u001b[K \u001b[01;35m\u001b[Kwarning: \u001b[m\u001b[Kignoring return value of ‘\u001b[01m\u001b[Kfread\u001b[m\u001b[K’, declared with attribute warn_unused_result [\u001b[01;35m\u001b[K-Wunused-result\u001b[m\u001b[K]\n",
      " 6108 |      \u001b[01;35m\u001b[Kfread(&cellbcP0_geneno0B,1,8,input_fps[xk1])\u001b[m\u001b[K;\n",
      "      |      \u001b[01;35m\u001b[K^~~~~~~~~~~~~~~~~~~~~~~~~~~~~~~~~~~~~~~~~~~~\u001b[m\u001b[K\n",
      "\u001b[01m\u001b[KreadSummary.c:6109:6:\u001b[m\u001b[K \u001b[01;35m\u001b[Kwarning: \u001b[m\u001b[Kignoring return value of ‘\u001b[01m\u001b[Kfread\u001b[m\u001b[K’, declared with attribute warn_unused_result [\u001b[01;35m\u001b[K-Wunused-result\u001b[m\u001b[K]\n",
      " 6109 |      \u001b[01;35m\u001b[Kfread(&umis,1,8,input_fps[xk1])\u001b[m\u001b[K;\n",
      "      |      \u001b[01;35m\u001b[K^~~~~~~~~~~~~~~~~~~~~~~~~~~~~~~\u001b[m\u001b[K\n",
      "\u001b[01m\u001b[KreadSummary.c:6130:5:\u001b[m\u001b[K \u001b[01;35m\u001b[Kwarning: \u001b[m\u001b[Kignoring return value of ‘\u001b[01m\u001b[Kfread\u001b[m\u001b[K’, declared with attribute warn_unused_result [\u001b[01;35m\u001b[K-Wunused-result\u001b[m\u001b[K]\n",
      " 6130 |     \u001b[01;35m\u001b[Kfread(last_rbin_buffer[xk1]+16, 1, 8*genes+ global_context -> scRNA_UMI_length + 4, input_fps[xk1])\u001b[m\u001b[K;\n",
      "      |     \u001b[01;35m\u001b[K^~~~~~~~~~~~~~~~~~~~~~~~~~~~~~~~~~~~~~~~~~~~~~~~~~~~~~~~~~~~~~~~~~~~~~~~~~~~~~~~~~~~~~~~~~~~~~~~~~~\u001b[m\u001b[K\n",
      "\u001b[01m\u001b[KreadSummary.c:6132:5:\u001b[m\u001b[K \u001b[01;35m\u001b[Kwarning: \u001b[m\u001b[Kignoring return value of ‘\u001b[01m\u001b[Kfread\u001b[m\u001b[K’, declared with attribute warn_unused_result [\u001b[01;35m\u001b[K-Wunused-result\u001b[m\u001b[K]\n",
      " 6132 |     \u001b[01;35m\u001b[Kfread(last_rbin_buffer[xk1] + 16+ 8*genes+ global_context -> scRNA_UMI_length + 4, 1, binlen, input_fps[xk1])\u001b[m\u001b[K;\n",
      "      |     \u001b[01;35m\u001b[K^~~~~~~~~~~~~~~~~~~~~~~~~~~~~~~~~~~~~~~~~~~~~~~~~~~~~~~~~~~~~~~~~~~~~~~~~~~~~~~~~~~~~~~~~~~~~~~~~~~~~~~~~~~~~\u001b[m\u001b[K\n",
      "\u001b[01m\u001b[KreadSummary.c:6190:5:\u001b[m\u001b[K \u001b[01;35m\u001b[Kwarning: \u001b[m\u001b[Kignoring return value of ‘\u001b[01m\u001b[Kfread\u001b[m\u001b[K’, declared with attribute warn_unused_result [\u001b[01;35m\u001b[K-Wunused-result\u001b[m\u001b[K]\n",
      " 6190 |     \u001b[01;35m\u001b[Kfread(last_rbin_buffer[selected_fp_no]+16, 1, 8*genes+ global_context -> scRNA_UMI_length + 4, input_fps[selected_fp_no])\u001b[m\u001b[K;\n",
      "      |     \u001b[01;35m\u001b[K^~~~~~~~~~~~~~~~~~~~~~~~~~~~~~~~~~~~~~~~~~~~~~~~~~~~~~~~~~~~~~~~~~~~~~~~~~~~~~~~~~~~~~~~~~~~~~~~~~~~~~~~~~~~~~~~~~~~~~~~~\u001b[m\u001b[K\n",
      "\u001b[01m\u001b[KreadSummary.c:6193:5:\u001b[m\u001b[K \u001b[01;35m\u001b[Kwarning: \u001b[m\u001b[Kignoring return value of ‘\u001b[01m\u001b[Kfread\u001b[m\u001b[K’, declared with attribute warn_unused_result [\u001b[01;35m\u001b[K-Wunused-result\u001b[m\u001b[K]\n",
      " 6193 |     \u001b[01;35m\u001b[Kfread(last_rbin_buffer[selected_fp_no] + 16+ 8*genes+ global_context -> scRNA_UMI_length + 4, 1, binlen, input_fps[selected_fp_no])\u001b[m\u001b[K;\n",
      "      |     \u001b[01;35m\u001b[K^~~~~~~~~~~~~~~~~~~~~~~~~~~~~~~~~~~~~~~~~~~~~~~~~~~~~~~~~~~~~~~~~~~~~~~~~~~~~~~~~~~~~~~~~~~~~~~~~~~~~~~~~~~~~~~~~~~~~~~~~~~~~~~~~~~\u001b[m\u001b[K\n",
      "\u001b[01m\u001b[KreadSummary.c:6240:4:\u001b[m\u001b[K \u001b[01;35m\u001b[Kwarning: \u001b[m\u001b[Kignoring return value of ‘\u001b[01m\u001b[Kfread\u001b[m\u001b[K’, declared with attribute warn_unused_result [\u001b[01;35m\u001b[K-Wunused-result\u001b[m\u001b[K]\n",
      " 6240 |    \u001b[01;35m\u001b[Kfread(&binlen, 1, 4, notmapped_fp)\u001b[m\u001b[K;\n",
      "      |    \u001b[01;35m\u001b[K^~~~~~~~~~~~~~~~~~~~~~~~~~~~~~~~~~\u001b[m\u001b[K\n",
      "\u001b[01m\u001b[KreadSummary.c:6243:4:\u001b[m\u001b[K \u001b[01;35m\u001b[Kwarning: \u001b[m\u001b[Kignoring return value of ‘\u001b[01m\u001b[Kfread\u001b[m\u001b[K’, declared with attribute warn_unused_result [\u001b[01;35m\u001b[K-Wunused-result\u001b[m\u001b[K]\n",
      " 6243 |    \u001b[01;35m\u001b[Kfread(tofill -> inbin + tofill -> inbin_len, 1, binlen, notmapped_fp)\u001b[m\u001b[K;\n",
      "      |    \u001b[01;35m\u001b[K^~~~~~~~~~~~~~~~~~~~~~~~~~~~~~~~~~~~~~~~~~~~~~~~~~~~~~~~~~~~~~~~~~~~~\u001b[m\u001b[K\n",
      "gcc  -mtune=core2  -O3 -Wall  -DMAKE_FOR_EXON  -D MAKE_STANDALONE  -D_FILE_OFFSET_BITS=64 -DSUBREAD_VERSION=\\\"\"2.0.3\"\\\"    -fmessage-length=0  -ggdb -o LRMfile-io.o -c LRMfile-io.c\n",
      "gcc  -mtune=core2  -O3 -Wall  -DMAKE_FOR_EXON  -D MAKE_STANDALONE  -D_FILE_OFFSET_BITS=64 -DSUBREAD_VERSION=\\\"\"2.0.3\"\\\"    -fmessage-length=0  -ggdb -o LRMhashtable.o -c LRMhashtable.c\n",
      "gcc  -mtune=core2  -O3 -Wall  -DMAKE_FOR_EXON  -D MAKE_STANDALONE  -D_FILE_OFFSET_BITS=64 -DSUBREAD_VERSION=\\\"\"2.0.3\"\\\"    -fmessage-length=0  -ggdb -o LRM longread-mapping.c   LRMsorted-hashtable.o LRMbase-index.o LRMchro-event.o LRMhelper.o LRMseek-zlib.o LRMfile-io.o LRMhashtable.o  -lpthread -lz -lm -O3 -DMAKE_FOR_EXON -D MAKE_STANDALONE \n",
      "\u001b[01m\u001b[Klongread-mapping.c:\u001b[m\u001b[K In function ‘\u001b[01m\u001b[KLRMmiltime\u001b[m\u001b[K’:\n",
      "\u001b[01m\u001b[Klongread-mapping.c:234:2:\u001b[m\u001b[K \u001b[01;35m\u001b[Kwarning: \u001b[m\u001b[K‘\u001b[01m\u001b[Kftime\u001b[m\u001b[K’ is deprecated [\u001b[01;35m\u001b[K-Wdeprecated-declarations\u001b[m\u001b[K]\n",
      "  234 |  \u001b[01;35m\u001b[Kftime\u001b[m\u001b[K(&trp);\n",
      "      |  \u001b[01;35m\u001b[K^~~~~\u001b[m\u001b[K\n",
      "In file included from \u001b[01m\u001b[Klongread-mapping.c:33\u001b[m\u001b[K:\n",
      "\u001b[01m\u001b[K/usr/include/x86_64-linux-gnu/sys/timeb.h:39:12:\u001b[m\u001b[K \u001b[01;36m\u001b[Knote: \u001b[m\u001b[Kdeclared here\n",
      "   39 | extern int \u001b[01;36m\u001b[Kftime\u001b[m\u001b[K (struct timeb *__timebuf)\n",
      "      |            \u001b[01;36m\u001b[K^~~~~\u001b[m\u001b[K\n",
      "gcc  -mtune=core2  -O3 -DMAKE_FOR_EXON  -D MAKE_STANDALONE -D SUBREAD_VERSION=\\\"\"2.0.3\"\\\"  -D_FILE_OFFSET_BITS=64    -fmessage-length=0  -ggdb   -o exactSNP SNPCalling.c  core.o core-junction.o core-indel.o sambam-file.o sublog.o gene-algorithms.o hashtable.o input-files.o sorted-hashtable.o gene-value-index.o exon-algorithms.o HelperFunctions.o interval_merge.o long-hashtable.o core-bigtable.o seek-zlib.o input-blc.o  -pthread -lz  -O3 -DMAKE_FOR_EXON -D MAKE_STANDALONE -lm\n",
      "gcc  -mtune=core2  -O3 -DMAKE_FOR_EXON  -D MAKE_STANDALONE -D SUBREAD_VERSION=\\\"\"2.0.3\"\\\"  -D_FILE_OFFSET_BITS=64    -fmessage-length=0  -ggdb   -o subread-buildindex  index-builder.c core.o core-junction.o core-indel.o sambam-file.o sublog.o gene-algorithms.o hashtable.o input-files.o sorted-hashtable.o gene-value-index.o exon-algorithms.o HelperFunctions.o interval_merge.o long-hashtable.o core-bigtable.o seek-zlib.o input-blc.o  -pthread -lz  -O3 -DMAKE_FOR_EXON -D MAKE_STANDALONE -lm\n",
      "make[1]: warning:  Clock skew detected.  Your build may be incomplete.\n",
      "make[1]: Leaving directory '/mnt/w/game_cibog/tools/subread-2.0.3-source/src/longread-one'\n",
      "gcc  -mtune=core2  -O3 -DMAKE_FOR_EXON  -D MAKE_STANDALONE -D SUBREAD_VERSION=\\\"\"2.0.3\"\\\"  -D_FILE_OFFSET_BITS=64    -fmessage-length=0  -ggdb  -o subindel SUBindel.c core.o core-junction.o core-indel.o sambam-file.o sublog.o gene-algorithms.o hashtable.o input-files.o sorted-hashtable.o gene-value-index.o exon-algorithms.o HelperFunctions.o interval_merge.o long-hashtable.o core-bigtable.o seek-zlib.o input-blc.o  -pthread -lz  -O3 -DMAKE_FOR_EXON -D MAKE_STANDALONE -lm\n",
      "\u001b[01m\u001b[KSUBindel.c:\u001b[m\u001b[K In function ‘\u001b[01m\u001b[Kload_global_context_forindel\u001b[m\u001b[K’:\n",
      "\u001b[01m\u001b[KSUBindel.c:66:24:\u001b[m\u001b[K \u001b[01;35m\u001b[Kwarning: \u001b[m\u001b[K‘\u001b[01m\u001b[K.reads\u001b[m\u001b[K’ directive writing 6 bytes into a region of size between 1 and 1000 [\u001b[01;35m\u001b[K-Wformat-overflow=\u001b[m\u001b[K]\n",
      "   66 |  sprintf(tmp_fname, \"%s\u001b[01;35m\u001b[K.reads\u001b[m\u001b[K\", context->config.index_prefix);\n",
      "      |                        \u001b[01;35m\u001b[K^~~~~~\u001b[m\u001b[K\n",
      "In file included from \u001b[01m\u001b[K/usr/include/stdio.h:867\u001b[m\u001b[K,\n",
      "                 from \u001b[01m\u001b[KSUBindel.c:20\u001b[m\u001b[K:\n",
      "\u001b[01m\u001b[K/usr/include/x86_64-linux-gnu/bits/stdio2.h:36:10:\u001b[m\u001b[K \u001b[01;36m\u001b[Knote: \u001b[m\u001b[K‘\u001b[01m\u001b[K__builtin___sprintf_chk\u001b[m\u001b[K’ output between 7 and 1006 bytes into a destination of size 1000\n",
      "   36 |   return \u001b[01;36m\u001b[K__builtin___sprintf_chk (__s, __USE_FORTIFY_LEVEL - 1,\u001b[m\u001b[K\n",
      "      |          \u001b[01;36m\u001b[K^~~~~~~~~~~~~~~~~~~~~~~~~~~~~~~~~~~~~~~~~~~~~~~~~~~~~~\u001b[m\u001b[K\n",
      "   37 | \u001b[01;36m\u001b[K      __bos (__s), __fmt, __va_arg_pack ())\u001b[m\u001b[K;\n",
      "      |       \u001b[01;36m\u001b[K~~~~~~~~~~~~~~~~~~~~~~~~~~~~~~~~~~~~~\u001b[m\u001b[K\n",
      "\u001b[01m\u001b[KSUBindel.c:77:25:\u001b[m\u001b[K \u001b[01;35m\u001b[Kwarning: \u001b[m\u001b[K‘\u001b[01m\u001b[K.00.b.tab\u001b[m\u001b[K’ directive writing 9 bytes into a region of size between 1 and 1000 [\u001b[01;35m\u001b[K-Wformat-overflow=\u001b[m\u001b[K]\n",
      "   77 |   sprintf(tmp_fname, \"%s\u001b[01;35m\u001b[K.00.b.tab\u001b[m\u001b[K\", context->config.index_prefix);\n",
      "      |                         \u001b[01;35m\u001b[K^~~~~~~~~\u001b[m\u001b[K\n",
      "In file included from \u001b[01m\u001b[K/usr/include/stdio.h:867\u001b[m\u001b[K,\n",
      "                 from \u001b[01m\u001b[KSUBindel.c:20\u001b[m\u001b[K:\n",
      "\u001b[01m\u001b[K/usr/include/x86_64-linux-gnu/bits/stdio2.h:36:10:\u001b[m\u001b[K \u001b[01;36m\u001b[Knote: \u001b[m\u001b[K‘\u001b[01m\u001b[K__builtin___sprintf_chk\u001b[m\u001b[K’ output between 10 and 1009 bytes into a destination of size 1000\n",
      "   36 |   return \u001b[01;36m\u001b[K__builtin___sprintf_chk (__s, __USE_FORTIFY_LEVEL - 1,\u001b[m\u001b[K\n",
      "      |          \u001b[01;36m\u001b[K^~~~~~~~~~~~~~~~~~~~~~~~~~~~~~~~~~~~~~~~~~~~~~~~~~~~~~\u001b[m\u001b[K\n",
      "   37 | \u001b[01;36m\u001b[K      __bos (__s), __fmt, __va_arg_pack ())\u001b[m\u001b[K;\n",
      "      |       \u001b[01;36m\u001b[K~~~~~~~~~~~~~~~~~~~~~~~~~~~~~~~~~~~~~\u001b[m\u001b[K\n",
      "\u001b[01m\u001b[KSUBindel.c:75:25:\u001b[m\u001b[K \u001b[01;35m\u001b[Kwarning: \u001b[m\u001b[K‘\u001b[01m\u001b[K.00.c.tab\u001b[m\u001b[K’ directive writing 9 bytes into a region of size between 1 and 1000 [\u001b[01;35m\u001b[K-Wformat-overflow=\u001b[m\u001b[K]\n",
      "   75 |   sprintf(tmp_fname, \"%s\u001b[01;35m\u001b[K.00.c.tab\u001b[m\u001b[K\", context->config.index_prefix);\n",
      "      |                         \u001b[01;35m\u001b[K^~~~~~~~~\u001b[m\u001b[K\n",
      "In file included from \u001b[01m\u001b[K/usr/include/stdio.h:867\u001b[m\u001b[K,\n",
      "                 from \u001b[01m\u001b[KSUBindel.c:20\u001b[m\u001b[K:\n",
      "\u001b[01m\u001b[K/usr/include/x86_64-linux-gnu/bits/stdio2.h:36:10:\u001b[m\u001b[K \u001b[01;36m\u001b[Knote: \u001b[m\u001b[K‘\u001b[01m\u001b[K__builtin___sprintf_chk\u001b[m\u001b[K’ output between 10 and 1009 bytes into a destination of size 1000\n",
      "   36 |   return \u001b[01;36m\u001b[K__builtin___sprintf_chk (__s, __USE_FORTIFY_LEVEL - 1,\u001b[m\u001b[K\n",
      "      |          \u001b[01;36m\u001b[K^~~~~~~~~~~~~~~~~~~~~~~~~~~~~~~~~~~~~~~~~~~~~~~~~~~~~~\u001b[m\u001b[K\n",
      "   37 | \u001b[01;36m\u001b[K      __bos (__s), __fmt, __va_arg_pack ())\u001b[m\u001b[K;\n",
      "      |       \u001b[01;36m\u001b[K~~~~~~~~~~~~~~~~~~~~~~~~~~~~~~~~~~~~~\u001b[m\u001b[K\n",
      "\u001b[01m\u001b[KSUBindel.c:87:26:\u001b[m\u001b[K \u001b[01;35m\u001b[Kwarning: \u001b[m\u001b[K‘\u001b[01m\u001b[K%02d\u001b[m\u001b[K’ directive writing between 2 and 11 bytes into a region of size between 0 and 999 [\u001b[01;35m\u001b[K-Wformat-overflow=\u001b[m\u001b[K]\n",
      "   87 |   sprintf(tmp_fname, \"%s.\u001b[01;35m\u001b[K%02d\u001b[m\u001b[K.%c.tab\", context->config.index_prefix, context->index_block_number, context->config.space_type == GENE_SPACE_COLOR?'c':'b');\n",
      "      |                          \u001b[01;35m\u001b[K^~~~\u001b[m\u001b[K\n",
      "In file included from \u001b[01m\u001b[K/usr/include/stdio.h:867\u001b[m\u001b[K,\n",
      "                 from \u001b[01m\u001b[KSUBindel.c:20\u001b[m\u001b[K:\n",
      "\u001b[01m\u001b[K/usr/include/x86_64-linux-gnu/bits/stdio2.h:36:10:\u001b[m\u001b[K \u001b[01;36m\u001b[Knote: \u001b[m\u001b[K‘\u001b[01m\u001b[K__builtin___sprintf_chk\u001b[m\u001b[K’ output between 10 and 1018 bytes into a destination of size 1000\n",
      "   36 |   return \u001b[01;36m\u001b[K__builtin___sprintf_chk (__s, __USE_FORTIFY_LEVEL - 1,\u001b[m\u001b[K\n",
      "      |          \u001b[01;36m\u001b[K^~~~~~~~~~~~~~~~~~~~~~~~~~~~~~~~~~~~~~~~~~~~~~~~~~~~~~\u001b[m\u001b[K\n",
      "   37 | \u001b[01;36m\u001b[K      __bos (__s), __fmt, __va_arg_pack ())\u001b[m\u001b[K;\n",
      "      |       \u001b[01;36m\u001b[K~~~~~~~~~~~~~~~~~~~~~~~~~~~~~~~~~~~~~\u001b[m\u001b[K\n",
      "\u001b[01m\u001b[KSUBindel.c:\u001b[m\u001b[K In function ‘\u001b[01m\u001b[Kload_indexes_forindel\u001b[m\u001b[K’:\n",
      "\u001b[01m\u001b[KSUBindel.c:110:26:\u001b[m\u001b[K \u001b[01;35m\u001b[Kwarning: \u001b[m\u001b[K‘\u001b[01m\u001b[K%02d\u001b[m\u001b[K’ directive writing between 2 and 10 bytes into a region of size between 0 and 999 [\u001b[01;35m\u001b[K-Wformat-overflow=\u001b[m\u001b[K]\n",
      "  110 |   sprintf(tmp_fname, \"%s.\u001b[01;35m\u001b[K%02d\u001b[m\u001b[K.%c.array\", global_context->config.index_prefix, block_no,  global_context->config.space_type == GENE_SPACE_COLOR?'c':'b');\n",
      "      |                          \u001b[01;35m\u001b[K^~~~\u001b[m\u001b[K\n",
      "\u001b[01m\u001b[KSUBindel.c:110:22:\u001b[m\u001b[K \u001b[01;36m\u001b[Knote: \u001b[m\u001b[Kdirective argument in the range [0, 2147483647]\n",
      "  110 |   sprintf(tmp_fname, \u001b[01;36m\u001b[K\"%s.%02d.%c.array\"\u001b[m\u001b[K, global_context->config.index_prefix, block_no,  global_context->config.space_type == GENE_SPACE_COLOR?'c':'b');\n",
      "      |                      \u001b[01;36m\u001b[K^~~~~~~~~~~~~~~~~~\u001b[m\u001b[K\n",
      "In file included from \u001b[01m\u001b[K/usr/include/stdio.h:867\u001b[m\u001b[K,\n",
      "                 from \u001b[01m\u001b[KSUBindel.c:20\u001b[m\u001b[K:\n",
      "\u001b[01m\u001b[K/usr/include/x86_64-linux-gnu/bits/stdio2.h:36:10:\u001b[m\u001b[K \u001b[01;36m\u001b[Knote: \u001b[m\u001b[K‘\u001b[01m\u001b[K__builtin___sprintf_chk\u001b[m\u001b[K’ output between 12 and 1019 bytes into a destination of size 1000\n",
      "   36 |   return \u001b[01;36m\u001b[K__builtin___sprintf_chk (__s, __USE_FORTIFY_LEVEL - 1,\u001b[m\u001b[K\n",
      "      |          \u001b[01;36m\u001b[K^~~~~~~~~~~~~~~~~~~~~~~~~~~~~~~~~~~~~~~~~~~~~~~~~~~~~~\u001b[m\u001b[K\n",
      "   37 | \u001b[01;36m\u001b[K      __bos (__s), __fmt, __va_arg_pack ())\u001b[m\u001b[K;\n",
      "      |       \u001b[01;36m\u001b[K~~~~~~~~~~~~~~~~~~~~~~~~~~~~~~~~~~~~~\u001b[m\u001b[K\n",
      "gcc  -mtune=core2  -O3 -DMAKE_FOR_EXON  -D MAKE_STANDALONE -D SUBREAD_VERSION=\\\"\"2.0.3\"\\\"  -D_FILE_OFFSET_BITS=64    -fmessage-length=0  -ggdb  -o subread-align core-interface-aligner.c  core.o core-junction.o core-indel.o sambam-file.o sublog.o gene-algorithms.o hashtable.o input-files.o sorted-hashtable.o gene-value-index.o exon-algorithms.o HelperFunctions.o interval_merge.o long-hashtable.o core-bigtable.o seek-zlib.o input-blc.o  -pthread -lz  -O3 -DMAKE_FOR_EXON -D MAKE_STANDALONE -lm \n",
      "gcc  -mtune=core2  -O3 -DMAKE_FOR_EXON  -D MAKE_STANDALONE -D SUBREAD_VERSION=\\\"\"2.0.3\"\\\"  -D_FILE_OFFSET_BITS=64    -fmessage-length=0  -ggdb  -o subjunc core-interface-subjunc.c  core.o core-junction.o core-indel.o sambam-file.o sublog.o gene-algorithms.o hashtable.o input-files.o sorted-hashtable.o gene-value-index.o exon-algorithms.o HelperFunctions.o interval_merge.o long-hashtable.o core-bigtable.o seek-zlib.o input-blc.o  -pthread -lz  -O3 -DMAKE_FOR_EXON -D MAKE_STANDALONE -lm \n",
      "gcc  -mtune=core2  -O3 -DMAKE_FOR_EXON  -D MAKE_STANDALONE -D SUBREAD_VERSION=\\\"\"2.0.3\"\\\"  -D_FILE_OFFSET_BITS=64    -fmessage-length=0  -ggdb  -o qualityScores qualityScores.c  core.o core-junction.o core-indel.o sambam-file.o sublog.o gene-algorithms.o hashtable.o input-files.o sorted-hashtable.o gene-value-index.o exon-algorithms.o HelperFunctions.o interval_merge.o long-hashtable.o core-bigtable.o seek-zlib.o input-blc.o   -pthread -lz  -O3 -DMAKE_FOR_EXON -D MAKE_STANDALONE -lm\n",
      "gcc  -mtune=core2  -O3 -DMAKE_FOR_EXON  -D MAKE_STANDALONE -D SUBREAD_VERSION=\\\"\"2.0.3\"\\\"  -D_FILE_OFFSET_BITS=64    -fmessage-length=0  -ggdb  -o subread-fullscan fullscan.c  core.o core-junction.o core-indel.o sambam-file.o sublog.o gene-algorithms.o hashtable.o input-files.o sorted-hashtable.o gene-value-index.o exon-algorithms.o HelperFunctions.o interval_merge.o long-hashtable.o core-bigtable.o seek-zlib.o input-blc.o   -pthread -lz  -O3 -DMAKE_FOR_EXON -D MAKE_STANDALONE -lm\n",
      "gcc  -mtune=core2  -O3 -DMAKE_FOR_EXON  -D MAKE_STANDALONE -D SUBREAD_VERSION=\\\"\"2.0.3\"\\\"  -D_FILE_OFFSET_BITS=64    -fmessage-length=0  -ggdb  -o propmapped propmapped.c core.o core-junction.o core-indel.o sambam-file.o sublog.o gene-algorithms.o hashtable.o input-files.o sorted-hashtable.o gene-value-index.o exon-algorithms.o HelperFunctions.o interval_merge.o long-hashtable.o core-bigtable.o seek-zlib.o input-blc.o  -pthread -lz  -O3 -DMAKE_FOR_EXON -D MAKE_STANDALONE -lm\n",
      "gcc  -mtune=core2  -O3 -DMAKE_FOR_EXON  -D MAKE_STANDALONE -D SUBREAD_VERSION=\\\"\"2.0.3\"\\\"  -D_FILE_OFFSET_BITS=64    -fmessage-length=0  -ggdb  -o flattenGTF flattenAnnotations.c  core.o core-junction.o core-indel.o sambam-file.o sublog.o gene-algorithms.o hashtable.o input-files.o sorted-hashtable.o gene-value-index.o exon-algorithms.o HelperFunctions.o interval_merge.o long-hashtable.o core-bigtable.o seek-zlib.o input-blc.o  -pthread -lz  -O3 -DMAKE_FOR_EXON -D MAKE_STANDALONE -lm\n",
      "mkdir -p ../bin/utilities\n",
      "mv longread-one/LRM longread-one/sublong\n",
      "mv longread-one/sublong subread-align subjunc featureCounts  subindel exactSNP subread-buildindex ../bin/\n",
      "mv detectionCall genRandomReads repair propmapped qualityScores removeDup subread-fullscan txUnique flattenGTF ../bin/utilities\n",
      "\n",
      "###########################################################\n",
      "#                                                         #\n",
      "#  Installation successfully completed.                   #\n",
      "#                                                         #\n",
      "#  Generated executables were copied to directory ../bin/ #\n",
      "#                                                         #\n",
      "###########################################################\n",
      "\n"
     ]
    }
   ],
   "source": [
    "! cd tools/subread-2.0.3-source/src && make -f Makefile.Linux -j 4"
   ]
  },
  {
   "cell_type": "markdown",
   "metadata": {},
   "source": [
    "We can now check that featureCounts was built and is executable:"
   ]
  },
  {
   "cell_type": "code",
   "execution_count": 15,
   "metadata": {},
   "outputs": [
    {
     "name": "stdout",
     "output_type": "stream",
     "text": [
      "\n",
      "featureCounts v2.0.3\n",
      "\n"
     ]
    }
   ],
   "source": [
    "! tools/subread-2.0.3-source/bin/featureCounts -v"
   ]
  },
  {
   "cell_type": "markdown",
   "metadata": {},
   "source": [
    "Now that everything is installed, let's download and rename the files! At the end we will download all required references (genome for alignment + genome annotation for counting):\n",
    "\n",
    "We first navigate from the GEO Series https://www.ncbi.nlm.nih.gov/geo/query/acc.cgi?acc=GSE131102 to a single sample (GSM) we want to download. There we follow the relation to SRA (at the bottom):"
   ]
  },
  {
   "cell_type": "markdown",
   "metadata": {},
   "source": [
    "<img src=\"../images/gsm_record.png\" />"
   ]
  },
  {
   "cell_type": "markdown",
   "metadata": {},
   "source": [
    "On the SRX record page (SRA Experiment) you can find the SRR (SRA Run) IDs of all relevant files. Here, we expect unpaired reads and just one file per sample. You can now download the SRR-run data with fastq-dump from the command line:\n",
    "\n",
    "<img src=\"../images/srx_record.png\"/>"
   ]
  },
  {
   "cell_type": "code",
   "execution_count": 4,
   "metadata": {},
   "outputs": [
    {
     "name": "stdout",
     "output_type": "stream",
     "text": [
      "Read 17872256 spots for SRR9048093\n",
      "Written 17872256 spots for SRR9048093\n",
      "Read 40740514 spots for SRR9048094\n",
      "Written 40740514 spots for SRR9048094\n",
      "Read 43554379 spots for SRR9048103\n",
      "Written 43554379 spots for SRR9048103\n",
      "Read 28277603 spots for SRR9048104\n",
      "Written 28277603 spots for SRR9048104\n"
     ]
    }
   ],
   "source": [
    "#24h R1\n",
    "! cd reads/bulk/ && fastq-dump --gzip SRR9048093\n",
    "#24h R1\n",
    "! cd reads/bulk/ && fastq-dump --gzip SRR9048094\n",
    "#JQ1 24h R1\n",
    "! cd reads/bulk/ && fastq-dump --gzip SRR9048103\n",
    "#JQ1 24h R1\n",
    "! cd reads/bulk/ && fastq-dump --gzip SRR9048104\n"
   ]
  },
  {
   "cell_type": "markdown",
   "metadata": {},
   "source": [
    "For easier refrence we rename the SRR files to more interpretable names:"
   ]
  },
  {
   "cell_type": "code",
   "execution_count": 6,
   "metadata": {},
   "outputs": [],
   "source": [
    "! mv reads/bulk/SRR9048093.fastq.gz reads/bulk/SUM159_24h_R1.fastq.gz\n",
    "! mv reads/bulk/SRR9048094.fastq.gz reads/bulk/SUM159_24h_R2.fastq.gz\n",
    "! mv reads/bulk/SRR9048103.fastq.gz reads/bulk/SUM159R_24h_R1.fastq.gz\n",
    "! mv reads/bulk/SRR9048104.fastq.gz reads/bulk/SUM159R_24h_R2.fastq.gz"
   ]
  },
  {
   "cell_type": "markdown",
   "metadata": {},
   "source": [
    "Hisat2 is going to be used for aligning the reads to the reference genome. You should have already installed Hisat2 (else: sudo apt-get install hisat2). We chose to download the GRCh38 reference genome. Instructions on how to run Hisat2, or for other reference genomes, visit: http://daehwankimlab.github.io/hisat2/ "
   ]
  },
  {
   "cell_type": "code",
   "execution_count": 5,
   "metadata": {},
   "outputs": [
    {
     "name": "stdout",
     "output_type": "stream",
     "text": [
      "--2022-01-19 12:36:56--  https://genome-idx.s3.amazonaws.com/hisat/grch38_genome.tar.gz\n",
      "Resolving genome-idx.s3.amazonaws.com (genome-idx.s3.amazonaws.com)... 52.217.18.212\n",
      "Connecting to genome-idx.s3.amazonaws.com (genome-idx.s3.amazonaws.com)|52.217.18.212|:443... connected.\n",
      "HTTP request sent, awaiting response... 200 OK\n",
      "Length: 4210306865 (3.9G) [binary/octet-stream]\n",
      "Saving to: ‘hsapien_hisat2.tar.gz’\n",
      "\n",
      "hsapien_hisat2.tar. 100%[===================>]   3.92G  4.36MB/s    in 16m 19s \n",
      "\n",
      "2022-01-19 12:53:16 (4.10 MB/s) - ‘hsapien_hisat2.tar.gz’ saved [4210306865/4210306865]\n",
      "\n"
     ]
    }
   ],
   "source": [
    "! cd references && wget -O hsapiens_hisat2.tar.gz https://genome-idx.s3.amazonaws.com/hisat/grch38_genome.tar.gz"
   ]
  },
  {
   "cell_type": "markdown",
   "metadata": {},
   "source": [
    "We also extract this tar.gz file:"
   ]
  },
  {
   "cell_type": "code",
   "execution_count": 7,
   "metadata": {},
   "outputs": [],
   "source": [
    "! cd references && tar xfz hsapien_hisat2.tar.gz"
   ]
  },
  {
   "cell_type": "markdown",
   "metadata": {},
   "source": [
    "And download the genome reference from ensembl. You should ensure that this matches the reference genome in terms of chromosome identifiers (chr1 vs 1):"
   ]
  },
  {
   "cell_type": "code",
   "execution_count": 21,
   "metadata": {},
   "outputs": [
    {
     "name": "stdout",
     "output_type": "stream",
     "text": [
      "--2022-01-19 14:24:48--  http://ftp.ensembl.org/pub/release-105/gtf/homo_sapiens/Homo_sapiens.GRCh38.105.gtf.gz\n",
      "Resolving ftp.ensembl.org (ftp.ensembl.org)... 193.62.197.76\n",
      "Connecting to ftp.ensembl.org (ftp.ensembl.org)|193.62.197.76|:80... connected.\n",
      "HTTP request sent, awaiting response... 200 OK\n",
      "Length: 50829040 (48M) [application/x-gzip]\n",
      "Saving to: ‘ensembl.105.annotation.gtf.gz’\n",
      "\n",
      "ensembl.105.annotat 100%[===================>]  48.47M  1.90MB/s    in 26s     \n",
      "\n",
      "2022-01-19 14:25:14 (1.90 MB/s) - ‘ensembl.105.annotation.gtf.gz’ saved [50829040/50829040]\n",
      "\n"
     ]
    }
   ],
   "source": [
    "! cd references && wget -O ensembl.105.annotation.gtf.gz http://ftp.ensembl.org/pub/release-105/gtf/homo_sapiens/Homo_sapiens.GRCh38.105.gtf.gz"
   ]
  },
  {
   "cell_type": "code",
   "execution_count": 22,
   "metadata": {},
   "outputs": [],
   "source": [
    "! cd references && gunzip ensembl.105.annotation.gtf.gz"
   ]
  },
  {
   "cell_type": "markdown",
   "metadata": {},
   "source": [
    "## Download preprocessed gene expression files from GEO\n",
    "\n",
    "Instead of downloading the reads and doing the alignment+counting by oneself, one can also rely on the processed outputs of the original authors. These are available from each GEO sample (GSM record):\n",
    "\n",
    "First the 24h samples:\n",
    "\n",
    "<img src=\"../images/bulk_sample_gse.png\" />"
   ]
  },
  {
   "cell_type": "code",
   "execution_count": 3,
   "metadata": {},
   "outputs": [
    {
     "name": "stdout",
     "output_type": "stream",
     "text": [
      "--2022-01-18 14:08:01--  https://www.ncbi.nlm.nih.gov/geo/download/?acc=GSM3763467&format=file&file=GSM3763467%5FSUM159%5FDMSO%5F24h%5FR1%2Ecounts%2Etxt%2Egz\n",
      "Resolving www.ncbi.nlm.nih.gov (www.ncbi.nlm.nih.gov)... 130.14.29.110, 2607:f220:41e:4290::110\n",
      "Connecting to www.ncbi.nlm.nih.gov (www.ncbi.nlm.nih.gov)|130.14.29.110|:443... connected.\n",
      "HTTP request sent, awaiting response... 200 OK\n",
      "Length: 96895 (95K) [application/octet-stream]\n",
      "Saving to: ‘GSM3763467_SUM159_DMSO_24h_R1.counts.txt.gz’\n",
      "\n",
      "GSM3763467_SUM159_D 100%[===================>]  94.62K   420KB/s    in 0.2s    \n",
      "\n",
      "2022-01-18 14:08:02 (420 KB/s) - ‘GSM3763467_SUM159_DMSO_24h_R1.counts.txt.gz’ saved [96895/96895]\n",
      "\n",
      "--2022-01-18 14:08:02--  https://www.ncbi.nlm.nih.gov/geo/download/?acc=GSM3763468&format=file&file=GSM3763468%5FSUM159%5FDMSO%5F24h%5FR2%2Ecounts%2Etxt%2Egz\n",
      "Resolving www.ncbi.nlm.nih.gov (www.ncbi.nlm.nih.gov)... 130.14.29.110, 2607:f220:41e:4290::110\n",
      "Connecting to www.ncbi.nlm.nih.gov (www.ncbi.nlm.nih.gov)|130.14.29.110|:443... connected.\n",
      "HTTP request sent, awaiting response... 200 OK\n",
      "Length: 101271 (99K) [application/octet-stream]\n",
      "Saving to: ‘GSM3763468_SUM159_DMSO_24h_R2.counts.txt.gz’\n",
      "\n",
      "GSM3763468_SUM159_D 100%[===================>]  98.90K   313KB/s    in 0.3s    \n",
      "\n",
      "2022-01-18 14:08:02 (313 KB/s) - ‘GSM3763468_SUM159_DMSO_24h_R2.counts.txt.gz’ saved [101271/101271]\n",
      "\n",
      "--2022-01-18 14:08:03--  https://www.ncbi.nlm.nih.gov/geo/download/?acc=GSM3763477&format=file&file=GSM3763477%5FSUM159%5FJQ1R%5FDMSO%5F24h%5FR1%2Ecounts%2Etxt%2Egz\n",
      "Resolving www.ncbi.nlm.nih.gov (www.ncbi.nlm.nih.gov)... 130.14.29.110, 2607:f220:41e:4290::110\n",
      "Connecting to www.ncbi.nlm.nih.gov (www.ncbi.nlm.nih.gov)|130.14.29.110|:443... connected.\n",
      "HTTP request sent, awaiting response... 200 OK\n",
      "Length: 100161 (98K) [application/octet-stream]\n",
      "Saving to: ‘GSM3763477_SUM159_JQ1R_DMSO_24h_R1.counts.txt.gz’\n",
      "\n",
      "GSM3763477_SUM159_J 100%[===================>]  97.81K   312KB/s    in 0.3s    \n",
      "\n",
      "2022-01-18 14:08:03 (312 KB/s) - ‘GSM3763477_SUM159_JQ1R_DMSO_24h_R1.counts.txt.gz’ saved [100161/100161]\n",
      "\n",
      "--2022-01-18 14:08:03--  https://www.ncbi.nlm.nih.gov/geo/download/?acc=GSM3763478&format=file&file=GSM3763478%5FSUM159%5FJQ1R%5FDMSO%5F24h%5FR2%2Ecounts%2Etxt%2Egz\n",
      "Resolving www.ncbi.nlm.nih.gov (www.ncbi.nlm.nih.gov)... 130.14.29.110, 2607:f220:41e:4290::110\n",
      "Connecting to www.ncbi.nlm.nih.gov (www.ncbi.nlm.nih.gov)|130.14.29.110|:443... connected.\n",
      "HTTP request sent, awaiting response... 200 OK\n",
      "Length: 97689 (95K) [application/octet-stream]\n",
      "Saving to: ‘GSM3763478_SUM159_JQ1R_DMSO_24h_R2.counts.txt.gz’\n",
      "\n",
      "GSM3763478_SUM159_J 100%[===================>]  95.40K   410KB/s    in 0.2s    \n",
      "\n",
      "2022-01-18 14:08:04 (410 KB/s) - ‘GSM3763478_SUM159_JQ1R_DMSO_24h_R2.counts.txt.gz’ saved [97689/97689]\n",
      "\n"
     ]
    }
   ],
   "source": [
    "! cd bulk && wget -O GSM3763467_SUM159_DMSO_24h_R1.counts.txt.gz \"https://www.ncbi.nlm.nih.gov/geo/download/?acc=GSM3763467&format=file&file=GSM3763467%5FSUM159%5FDMSO%5F24h%5FR1%2Ecounts%2Etxt%2Egz\"\n",
    "! cd bulk && wget -O GSM3763468_SUM159_DMSO_24h_R2.counts.txt.gz \"https://www.ncbi.nlm.nih.gov/geo/download/?acc=GSM3763468&format=file&file=GSM3763468%5FSUM159%5FDMSO%5F24h%5FR2%2Ecounts%2Etxt%2Egz\"\n",
    "\n",
    "! cd bulk && wget -O GSM3763477_SUM159_JQ1R_DMSO_24h_R1.counts.txt.gz \"https://www.ncbi.nlm.nih.gov/geo/download/?acc=GSM3763477&format=file&file=GSM3763477%5FSUM159%5FJQ1R%5FDMSO%5F24h%5FR1%2Ecounts%2Etxt%2Egz\"\n",
    "! cd bulk && wget -O GSM3763478_SUM159_JQ1R_DMSO_24h_R2.counts.txt.gz \"https://www.ncbi.nlm.nih.gov/geo/download/?acc=GSM3763478&format=file&file=GSM3763478%5FSUM159%5FJQ1R%5FDMSO%5F24h%5FR2%2Ecounts%2Etxt%2Egz\""
   ]
  },
  {
   "cell_type": "markdown",
   "metadata": {},
   "source": [
    "Then the 3h samples:"
   ]
  },
  {
   "cell_type": "code",
   "execution_count": 4,
   "metadata": {},
   "outputs": [
    {
     "name": "stdout",
     "output_type": "stream",
     "text": [
      "--2022-01-18 14:08:19--  https://www.ncbi.nlm.nih.gov/geo/download/?acc=GSM3763469&format=file&file=GSM3763469%5FSUM159%5FDMSO%5F3h%5FR1%2Ecounts%2Etxt%2Egz\n",
      "Resolving www.ncbi.nlm.nih.gov (www.ncbi.nlm.nih.gov)... 130.14.29.110, 2607:f220:41e:4290::110\n",
      "Connecting to www.ncbi.nlm.nih.gov (www.ncbi.nlm.nih.gov)|130.14.29.110|:443... connected.\n",
      "HTTP request sent, awaiting response... 200 OK\n",
      "Length: 101284 (99K) [application/octet-stream]\n",
      "Saving to: ‘GSM3763469_SUM159_DMSO_3h_R1.counts.txt.gz’\n",
      "\n",
      "GSM3763469_SUM159_D 100%[===================>]  98.91K   312KB/s    in 0.3s    \n",
      "\n",
      "2022-01-18 14:08:20 (312 KB/s) - ‘GSM3763469_SUM159_DMSO_3h_R1.counts.txt.gz’ saved [101284/101284]\n",
      "\n",
      "--2022-01-18 14:08:20--  https://www.ncbi.nlm.nih.gov/geo/download/?acc=GSM3763470&format=file&file=GSM3763470%5FSUM159%5FDMSO%5F3h%5FR2%2Ecounts%2Etxt%2Egz\n",
      "Resolving www.ncbi.nlm.nih.gov (www.ncbi.nlm.nih.gov)... 130.14.29.110, 2607:f220:41e:4290::110\n",
      "Connecting to www.ncbi.nlm.nih.gov (www.ncbi.nlm.nih.gov)|130.14.29.110|:443... connected.\n",
      "HTTP request sent, awaiting response... 200 OK\n",
      "Length: 97700 (95K) [application/octet-stream]\n",
      "Saving to: ‘GSM3763470_SUM159_DMSO_3h_R2.counts.txt.gz’\n",
      "\n",
      "GSM3763470_SUM159_D 100%[===================>]  95.41K   432KB/s    in 0.2s    \n",
      "\n",
      "2022-01-18 14:08:21 (432 KB/s) - ‘GSM3763470_SUM159_DMSO_3h_R2.counts.txt.gz’ saved [97700/97700]\n",
      "\n",
      "--2022-01-18 14:08:21--  https://www.ncbi.nlm.nih.gov/geo/download/?acc=GSM3763479&format=file&file=GSM3763479%5FSUM159%5FJQ1R%5FDMSO%5F3h%5FR1%2Ecounts%2Etxt%2Egz\n",
      "Resolving www.ncbi.nlm.nih.gov (www.ncbi.nlm.nih.gov)... 130.14.29.110, 2607:f220:41e:4290::110\n",
      "Connecting to www.ncbi.nlm.nih.gov (www.ncbi.nlm.nih.gov)|130.14.29.110|:443... connected.\n",
      "HTTP request sent, awaiting response... 200 OK\n",
      "Length: 99026 (97K) [application/octet-stream]\n",
      "Saving to: ‘GSM3763479_SUM159_JQ1R_DMSO_3h_R1.counts.txt.gz’\n",
      "\n",
      "GSM3763479_SUM159_J 100%[===================>]  96.71K   304KB/s    in 0.3s    \n",
      "\n",
      "2022-01-18 14:08:22 (304 KB/s) - ‘GSM3763479_SUM159_JQ1R_DMSO_3h_R1.counts.txt.gz’ saved [99026/99026]\n",
      "\n",
      "--2022-01-18 14:08:22--  https://www.ncbi.nlm.nih.gov/geo/download/?acc=GSM3763480&format=file&file=GSM3763480%5FSUM159%5FJQ1R%5FDMSO%5F3h%5FR2%2Ecounts%2Etxt%2Egz\n",
      "Resolving www.ncbi.nlm.nih.gov (www.ncbi.nlm.nih.gov)... 130.14.29.110, 2607:f220:41e:4290::110\n",
      "Connecting to www.ncbi.nlm.nih.gov (www.ncbi.nlm.nih.gov)|130.14.29.110|:443... connected.\n",
      "HTTP request sent, awaiting response... 200 OK\n",
      "Length: 99791 (97K) [application/octet-stream]\n",
      "Saving to: ‘GSM3763480_SUM159_JQ1R_DMSO_3h_R2.counts.txt.gz’\n",
      "\n",
      "GSM3763480_SUM159_J 100%[===================>]  97.45K   313KB/s    in 0.3s    \n",
      "\n",
      "2022-01-18 14:08:23 (313 KB/s) - ‘GSM3763480_SUM159_JQ1R_DMSO_3h_R2.counts.txt.gz’ saved [99791/99791]\n",
      "\n"
     ]
    }
   ],
   "source": [
    "! cd bulk && wget -O GSM3763469_SUM159_DMSO_3h_R1.counts.txt.gz \"https://www.ncbi.nlm.nih.gov/geo/download/?acc=GSM3763469&format=file&file=GSM3763469%5FSUM159%5FDMSO%5F3h%5FR1%2Ecounts%2Etxt%2Egz\"\n",
    "! cd bulk && wget -O GSM3763470_SUM159_DMSO_3h_R2.counts.txt.gz \"https://www.ncbi.nlm.nih.gov/geo/download/?acc=GSM3763470&format=file&file=GSM3763470%5FSUM159%5FDMSO%5F3h%5FR2%2Ecounts%2Etxt%2Egz\"\n",
    "\n",
    "! cd bulk && wget -O GSM3763479_SUM159_JQ1R_DMSO_3h_R1.counts.txt.gz \"https://www.ncbi.nlm.nih.gov/geo/download/?acc=GSM3763479&format=file&file=GSM3763479%5FSUM159%5FJQ1R%5FDMSO%5F3h%5FR1%2Ecounts%2Etxt%2Egz\"\n",
    "! cd bulk && wget -O GSM3763480_SUM159_JQ1R_DMSO_3h_R2.counts.txt.gz \"https://www.ncbi.nlm.nih.gov/geo/download/?acc=GSM3763480&format=file&file=GSM3763480%5FSUM159%5FJQ1R%5FDMSO%5F3h%5FR2%2Ecounts%2Etxt%2Egz\""
   ]
  },
  {
   "cell_type": "code",
   "execution_count": 16,
   "metadata": {},
   "outputs": [
    {
     "name": "stdout",
     "output_type": "stream",
     "text": [
      "24h_sum159_vs_sum159_jq1r.tsv\n",
      "3h_sum159_vs_sum159_jq1r.tsv\n",
      "GSM3763467_SUM159_DMSO_24h_R1.counts.txt.gz\n",
      "GSM3763468_SUM159_DMSO_24h_R2.counts.txt.gz\n",
      "GSM3763469_SUM159_DMSO_3h_R1.counts.txt.gz\n",
      "GSM3763470_SUM159_DMSO_3h_R2.counts.txt.gz\n",
      "GSM3763477_SUM159_JQ1R_DMSO_24h_R1.counts.txt.gz\n",
      "GSM3763478_SUM159_JQ1R_DMSO_24h_R2.counts.txt.gz\n",
      "GSM3763479_SUM159_JQ1R_DMSO_3h_R1.counts.txt.gz\n",
      "GSM3763480_SUM159_JQ1R_DMSO_3h_R2.counts.txt.gz\n",
      "normed_expr.24h_sum159_vs_sum159_jq1r.tsv\n",
      "normed_expr.3h_sum159_vs_sum159_jq1r.tsv\n",
      "sig.24h_sum159_vs_sum159_jq1r.tsv\n",
      "sig.3h_sum159_vs_sum159_jq1r.tsv\n",
      "sig.down.24h_sum159_vs_sum159_jq1r.tsv\n",
      "sig.down.3h_sum159_vs_sum159_jq1r.tsv\n",
      "sig.sum159_vs_sum159_jq1r.tsv\n",
      "sig.up.24h_sum159_vs_sum159_jq1r.tsv\n",
      "sig.up.3h_sum159_vs_sum159_jq1r.tsv\n",
      "top.all.24h_sum159_vs_sum159_jq1r.tsv\n",
      "top.all.3h_sum159_vs_sum159_jq1r.tsv\n",
      "top.down.24h_sum159_vs_sum159_jq1r.tsv\n",
      "top.down.3h_sum159_vs_sum159_jq1r.tsv\n",
      "top.up.24h_sum159_vs_sum159_jq1r.tsv\n",
      "top.up.3h_sum159_vs_sum159_jq1r.tsv\n"
     ]
    }
   ],
   "source": [
    "! ls bulk"
   ]
  },
  {
   "cell_type": "markdown",
   "metadata": {},
   "source": [
    "## Download scRNA-seq data\n",
    "\n",
    "How to download scRNA-seq data is explained in the next notebook!"
   ]
  }
 ],
 "metadata": {
  "interpreter": {
   "hash": "31f2aee4e71d21fbe5cf8b01ff0e069b9275f58929596ceb00d14d90e3e16cd6"
  },
  "kernelspec": {
   "display_name": "Python 3.8.10 64-bit",
   "language": "python",
   "name": "python3"
  },
  "language_info": {
   "codemirror_mode": {
    "name": "ipython",
    "version": 3
   },
   "file_extension": ".py",
   "mimetype": "text/x-python",
   "name": "python",
   "nbconvert_exporter": "python",
   "pygments_lexer": "ipython3",
   "version": "3.8.10"
  },
  "orig_nbformat": 4
 },
 "nbformat": 4,
 "nbformat_minor": 2
}
