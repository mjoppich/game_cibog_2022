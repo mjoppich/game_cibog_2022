{
 "cells": [
  {
   "cell_type": "code",
   "execution_count": 1,
   "metadata": {},
   "outputs": [],
   "source": [
    "import os\n",
    "from IPython.display import Image\n",
    "\n",
    "\n",
    "os.chdir(\"/mnt/w/game_cibog/\")\n",
    "\n"
   ]
  },
  {
   "cell_type": "code",
   "execution_count": 2,
   "metadata": {},
   "outputs": [
    {
     "name": "stdout",
     "output_type": "stream",
     "text": [
      "/mnt/w/game_cibog\n"
     ]
    }
   ],
   "source": [
    "! pwd"
   ]
  },
  {
   "cell_type": "code",
   "execution_count": 3,
   "metadata": {},
   "outputs": [
    {
     "name": "stdout",
     "output_type": "stream",
     "text": [
      "/home/mjoppich/bioGUI/progs//hisat2-2.1.0/hisat2\n"
     ]
    }
   ],
   "source": [
    "! which hisat2"
   ]
  },
  {
   "cell_type": "markdown",
   "metadata": {},
   "source": [
    "# Aligning the reads\n",
    "\n",
    "In order to align the reads we use hsiat2 in parallel mode (4 threads, -p 4). We provide the reference genome (-x ./references/grch38/genome) and the unpaired reads file (-U ./reads/bulk/SUM159_24h_R1.fastq.gz).\n",
    "\n",
    "hisat2 output is an alignment in the SAM format. In order to save space, we will construct the compressed binary format from it: BAM format. This can be achieved by piping the output from samtools into samtools with parameters view -@ 4 -bS - (-@ 4 = threads, -bS = binary output).\n",
    "\n",
    "In order to speed up the quantification step we will sort the reads by genome position, which is done by samtools sort (again with 4 threads)."
   ]
  },
  {
   "cell_type": "code",
   "execution_count": 9,
   "metadata": {},
   "outputs": [
    {
     "name": "stdout",
     "output_type": "stream",
     "text": [
      "17872256 reads; of these:\n",
      "  17872256 (100.00%) were unpaired; of these:\n",
      "    1101887 (6.17%) aligned 0 times\n",
      "    14598579 (81.68%) aligned exactly 1 time\n",
      "    2171790 (12.15%) aligned >1 times\n",
      "93.83% overall alignment rate\n",
      "[bam_sort_core] merging from 4 files and 4 in-memory blocks...\n"
     ]
    }
   ],
   "source": [
    "! hisat2 -p 4 -x ./references/grch38/genome -U ./reads/bulk/SUM159_24h_R1.fastq.gz | samtools view -@ 4 -bS - | samtools sort -@ 4 -o alignments/bulk/SUM159_24h_R1.bam -"
   ]
  },
  {
   "cell_type": "code",
   "execution_count": 6,
   "metadata": {},
   "outputs": [
    {
     "name": "stdout",
     "output_type": "stream",
     "text": [
      "40740514 reads; of these:\n",
      "  40740514 (100.00%) were unpaired; of these:\n",
      "    1926278 (4.73%) aligned 0 times\n",
      "    33800194 (82.96%) aligned exactly 1 time\n",
      "    5014042 (12.31%) aligned >1 times\n",
      "95.27% overall alignment rate\n",
      "[bam_sort_core] merging from 12 files and 4 in-memory blocks...\n"
     ]
    }
   ],
   "source": [
    "! hisat2 -p 4 -x ./references/grch38/genome -U ./reads/bulk/SUM159_24h_R2.fastq.gz | samtools view -@ 4 -bS - | samtools sort -@ 4 -o alignments/bulk/SUM159_24h_R2.bam -"
   ]
  },
  {
   "cell_type": "code",
   "execution_count": 7,
   "metadata": {},
   "outputs": [
    {
     "name": "stdout",
     "output_type": "stream",
     "text": [
      "43554379 reads; of these:\n",
      "  43554379 (100.00%) were unpaired; of these:\n",
      "    1944297 (4.46%) aligned 0 times\n",
      "    36312679 (83.37%) aligned exactly 1 time\n",
      "    5297403 (12.16%) aligned >1 times\n",
      "95.54% overall alignment rate\n",
      "[bam_sort_core] merging from 12 files and 4 in-memory blocks...\n"
     ]
    }
   ],
   "source": [
    "! hisat2 -p 4 -x ./references/grch38/genome -U ./reads/bulk/SUM159R_24h_R1.fastq.gz | samtools view -@ 4 -bS - | samtools sort -@ 4 -o alignments/bulk/SUM159R_24h_R1.bam -"
   ]
  },
  {
   "cell_type": "code",
   "execution_count": 8,
   "metadata": {},
   "outputs": [
    {
     "name": "stdout",
     "output_type": "stream",
     "text": [
      "28277603 reads; of these:\n",
      "  28277603 (100.00%) were unpaired; of these:\n",
      "    1520084 (5.38%) aligned 0 times\n",
      "    23332433 (82.51%) aligned exactly 1 time\n",
      "    3425086 (12.11%) aligned >1 times\n",
      "94.62% overall alignment rate\n",
      "[bam_sort_core] merging from 8 files and 4 in-memory blocks...\n"
     ]
    }
   ],
   "source": [
    "! hisat2 -p 4 -x ./references/grch38/genome -U ./reads/bulk/SUM159R_24h_R2.fastq.gz | samtools view -@ 4 -bS - | samtools sort -@ 4 -o alignments/bulk/SUM159R_24h_R2.bam -"
   ]
  },
  {
   "cell_type": "markdown",
   "metadata": {},
   "source": [
    "# BAM output"
   ]
  },
  {
   "cell_type": "markdown",
   "metadata": {},
   "source": [
    "The BAM output shows where a read is aligned to (column 3 (chromosome) and 4 (bp-position))."
   ]
  },
  {
   "cell_type": "code",
   "execution_count": 16,
   "metadata": {},
   "outputs": [
    {
     "name": "stdout",
     "output_type": "stream",
     "text": [
      "samtools view: writing to standard output failed: Broken pipe\n",
      "SRR9048103.31968550\t272\t1\t14298\t1\t50M\t*\t0\t0\tTCTGCCCCCACTGCCTAGGGACCAACAGGGGCAGGAGGCANTCACTGACC\tHIIIIHCEGHFFF@B9IGIHFGGEFEIIIIIIIIGGGCA2#HFDFDF@@@\tAS:i:-2\tZS:i:-2\tXN:i:0\tXM:i:1\tXO:i:0\tXG:i:0\tNM:i:1\tMD:Z:40G9\tYT:Z:UU\tNH:i:5\n",
      "SRR9048103.14337000\t256\t1\t14363\t1\t50M\t*\t0\t0\tCCTGCACAGCTAGAGATCCTTTATTAAAAGCACACTGTTGGTTTCTGCTC\t@@@?DDDDHDADFGGE:EHIIIIIIGEH>?FFGIGBHIIDIDEHFCGHIE\tAS:i:0\tZS:i:0\tXN:i:0\tXM:i:0\tXO:i:0\tXG:i:0\tNM:i:0\tMD:Z:50\tYT:Z:UU\tNH:i:4\n",
      "SRR9048103.20836045\t256\t1\t14369\t1\t1S49M\t*\t0\t0\tGCAGCTAGAGATCCTTTATTAAAAGCACACTGTTGGTTTCTGCTCAGTTC\t;?;DADDB:+2<FGIFIBHHFICEFGEFGGEHGIC<:CGFDD9DD>9:B<\tAS:i:-1\tZS:i:-1\tXN:i:0\tXM:i:0\tXO:i:0\tXG:i:0\tNM:i:0\tMD:Z:49\tYT:Z:UU\tNH:i:4\n",
      "SRR9048103.33222634\t256\t1\t14399\t1\t50M\t*\t0\t0\tGTTGGTTTCNGCTCAGTTCTTTATTGATTGGTGTGCCGTTTTCTCTGGAA\t?@:BDADDH#2ADGIIIIIIIIGIIIIIIEG?1CFGGIHEGGIIBB<*?F\tAS:i:-2\tZS:i:-2\tXN:i:0\tXM:i:1\tXO:i:0\tXG:i:0\tNM:i:1\tMD:Z:9T40\tYT:Z:UU\tNH:i:5\n",
      "SRR9048103.30258511\t256\t1\t14403\t1\t50M\t*\t0\t0\tGTTTCTGCTAAGTTCTTTATTGATTGGTGTGCCGTTTTCTCTGGAAGCCT\tBBBFFFFFH+3ADHIJJJHJJGHJJEHHGIIIJJGGIJGIEGC<?FGGEH\tAS:i:-3\tZS:i:-3\tXN:i:0\tXM:i:1\tXO:i:0\tXG:i:0\tNM:i:1\tMD:Z:9C40\tYT:Z:UU\tNH:i:5\n",
      "SRR9048103.3572747\t256\t1\t14407\t0\t49M1S\t*\t0\t0\tCTGCTCAGTTCTTTATTGATTGGTGTGCCATTTTCTCTGGAAGCCTCTTT\tCCCFFFEFFHFHHIJJJJIJJJJHGHIJJJJJJJGIIJJIIJJJJJIIGI\tAS:i:-7\tZS:i:-7\tXN:i:0\tXM:i:1\tXO:i:0\tXG:i:0\tNM:i:1\tMD:Z:29G19\tYT:Z:UU\tNH:i:5\n",
      "SRR9048103.41707148\t256\t1\t14407\t1\t50M\t*\t0\t0\tCTGCTCAGTTCTTTATTGATTGGTGTGCCGTTTTCTCTGGAAGCCTCTTA\tB@@FFFFFHHHHHJJJJIEGGIJFHHHIIIHGGIGGIJJJJJJJJJJJJJ\tAS:i:0\tZS:i:0\tXN:i:0\tXM:i:0\tXO:i:0\tXG:i:0\tNM:i:0\tMD:Z:50\tYT:Z:UU\tNH:i:5\n",
      "SRR9048103.13251871\t256\t1\t14409\t1\t1S49M\t*\t0\t0\tCGCTCAGTTCTTTATTGATTGGTGTGCCGTTTTCTCTGGAAGCCTCTTAA\tCCCFFFFEHHHHHJJJJIJJIJHIIJJJJGIJJIJJJJJJIJJJJJJJJI\tAS:i:-1\tZS:i:-1\tXN:i:0\tXM:i:0\tXO:i:0\tXG:i:0\tNM:i:0\tMD:Z:49\tYT:Z:UU\tNH:i:5\n",
      "SRR9048103.34933960\t0\t1\t14409\t1\t1S49M\t*\t0\t0\tCGCTCAGTTNTTTATTGATTGGTGTGCCGTTTTCTCTGGAAGCCTCTTAA\tCCCFFFFDH#2AFFHIIJJJIIHIJJIJIHIJJGGIJJJIIJJJJJJIIJ\tAS:i:-3\tZS:i:-3\tXN:i:0\tXM:i:1\tXO:i:0\tXG:i:0\tNM:i:1\tMD:Z:8C40\tYT:Z:UU\tNH:i:5\n",
      "SRR9048103.36803491\t256\t1\t14409\t0\t47M3S\t*\t0\t0\tGCTCAGTTCTTTATTGATTGGTGTGCCATTTTCTCTGGAAGCCTCTTTAG\t@@@FDDFDHFHFFIIGGIIEAAFBEFDAEFHHGGGIGGIIIICDFHII@?\tAS:i:-8\tZS:i:-8\tXN:i:0\tXM:i:1\tXO:i:0\tXG:i:0\tNM:i:1\tMD:Z:27G19\tYT:Z:UU\tNH:i:5\n",
      "samtools view: error closing standard output: -1\n"
     ]
    }
   ],
   "source": [
    "! cd ./alignments/bulk/ && samtools view -h SUM159R_24h_R1.bam | head -n 250 | tail -n 10"
   ]
  },
  {
   "cell_type": "markdown",
   "metadata": {},
   "source": [
    "# Quantify gene counts\n",
    "\n",
    "Using featureCounts we can count how many reads there have been per gene.\n",
    "\n",
    "For this we call featureCounts with default parameters and ask featureCounts to assess counts per -t exon and summarize by -g gene_id . As reference we hand over gencode v39 human reference. We specify an output file and all bam-files.\n",
    "\n",
    "First have a quick glance at the annotation file:"
   ]
  },
  {
   "cell_type": "code",
   "execution_count": 10,
   "metadata": {},
   "outputs": [
    {
     "name": "stdout",
     "output_type": "stream",
     "text": [
      "##description: evidence-based annotation of the human genome (GRCh38), version 39 (Ensembl 105)\n",
      "##provider: GENCODE\n",
      "##contact: gencode-help@ebi.ac.uk\n",
      "##format: gtf\n",
      "##date: 2021-09-02\n",
      "chr1\tHAVANA\tgene\t11869\t14409\t.\t+\t.\tgene_id \"ENSG00000223972.5\"; gene_type \"transcribed_unprocessed_pseudogene\"; gene_name \"DDX11L1\"; level 2; hgnc_id \"HGNC:37102\"; havana_gene \"OTTHUMG00000000961.2\";\n",
      "chr1\tHAVANA\ttranscript\t11869\t14409\t.\t+\t.\tgene_id \"ENSG00000223972.5\"; transcript_id \"ENST00000456328.2\"; gene_type \"transcribed_unprocessed_pseudogene\"; gene_name \"DDX11L1\"; transcript_type \"processed_transcript\"; transcript_name \"DDX11L1-202\"; level 2; transcript_support_level \"1\"; hgnc_id \"HGNC:37102\"; tag \"basic\"; havana_gene \"OTTHUMG00000000961.2\"; havana_transcript \"OTTHUMT00000362751.1\";\n",
      "chr1\tHAVANA\texon\t11869\t12227\t.\t+\t.\tgene_id \"ENSG00000223972.5\"; transcript_id \"ENST00000456328.2\"; gene_type \"transcribed_unprocessed_pseudogene\"; gene_name \"DDX11L1\"; transcript_type \"processed_transcript\"; transcript_name \"DDX11L1-202\"; exon_number 1; exon_id \"ENSE00002234944.1\"; level 2; transcript_support_level \"1\"; hgnc_id \"HGNC:37102\"; tag \"basic\"; havana_gene \"OTTHUMG00000000961.2\"; havana_transcript \"OTTHUMT00000362751.1\";\n",
      "chr1\tHAVANA\texon\t12613\t12721\t.\t+\t.\tgene_id \"ENSG00000223972.5\"; transcript_id \"ENST00000456328.2\"; gene_type \"transcribed_unprocessed_pseudogene\"; gene_name \"DDX11L1\"; transcript_type \"processed_transcript\"; transcript_name \"DDX11L1-202\"; exon_number 2; exon_id \"ENSE00003582793.1\"; level 2; transcript_support_level \"1\"; hgnc_id \"HGNC:37102\"; tag \"basic\"; havana_gene \"OTTHUMG00000000961.2\"; havana_transcript \"OTTHUMT00000362751.1\";\n",
      "chr1\tHAVANA\texon\t13221\t14409\t.\t+\t.\tgene_id \"ENSG00000223972.5\"; transcript_id \"ENST00000456328.2\"; gene_type \"transcribed_unprocessed_pseudogene\"; gene_name \"DDX11L1\"; transcript_type \"processed_transcript\"; transcript_name \"DDX11L1-202\"; exon_number 3; exon_id \"ENSE00002312635.1\"; level 2; transcript_support_level \"1\"; hgnc_id \"HGNC:37102\"; tag \"basic\"; havana_gene \"OTTHUMG00000000961.2\"; havana_transcript \"OTTHUMT00000362751.1\";\n",
      "cat: write error: Broken pipe\n"
     ]
    }
   ],
   "source": [
    "! cat ./references/ensembl.105.annotation.gtf | head"
   ]
  },
  {
   "cell_type": "markdown",
   "metadata": {},
   "source": [
    "This file tells where on the genome a specific gene (which consists of several transcript isoforms which again consist of several exons) is located. Then it is checked whether a read falls into a known exon. If so, this exon count is incremented by one. Finally, all exons of a gene are aggregated."
   ]
  },
  {
   "cell_type": "code",
   "execution_count": 24,
   "metadata": {},
   "outputs": [
    {
     "name": "stdout",
     "output_type": "stream",
     "text": [
      "\n",
      "       \u001b[44;37m ========== \u001b[0m\u001b[36m    _____ _    _ ____  _____  ______          _____  \n",
      "       \u001b[44;37m =====      \u001b[0m\u001b[36m   / ____| |  | |  _ \\|  __ \\|  ____|   /\\   |  __ \\ \n",
      "       \u001b[44;37m   =====    \u001b[0m\u001b[36m  | (___ | |  | | |_) | |__) | |__     /  \\  | |  | |\n",
      "       \u001b[44;37m     ====   \u001b[0m\u001b[36m   \\___ \\| |  | |  _ <|  _  /|  __|   / /\\ \\ | |  | |\n",
      "       \u001b[44;37m       ==== \u001b[0m\u001b[36m   ____) | |__| | |_) | | \\ \\| |____ / ____ \\| |__| |\n",
      "       \u001b[44;37m ========== \u001b[0m\u001b[36m  |_____/ \\____/|____/|_|  \\_\\______/_/    \\_\\_____/\u001b[0m\n",
      "\t  v2.0.3\n",
      "\n",
      "//==========================\u001b[36m featureCounts setting \u001b[0m===========================\\\\\n",
      "||  \u001b[0m                                                                          ||\n",
      "||             Input files : \u001b[36m4 BAM files  \u001b[0m \u001b[0m                                   ||\n",
      "||  \u001b[0m                                                                          ||\n",
      "||                           \u001b[36mSUM159_24h_R1.bam\u001b[0m \u001b[0m                               ||\n",
      "||                           \u001b[36mSUM159_24h_R2.bam\u001b[0m \u001b[0m                               ||\n",
      "||                           \u001b[36mSUM159R_24h_R1.bam\u001b[0m \u001b[0m                              ||\n",
      "||                           \u001b[36mSUM159R_24h_R2.bam\u001b[0m \u001b[0m                              ||\n",
      "||  \u001b[0m                                                                          ||\n",
      "||             Output file : \u001b[36mcounts.featurecounts.hisat2.tsv\u001b[0m \u001b[0m                 ||\n",
      "||                 Summary : \u001b[36mcounts.featurecounts.hisat2.tsv.summary\u001b[0m \u001b[0m         ||\n",
      "||              Paired-end : \u001b[36mno\u001b[0m \u001b[0m                                              ||\n",
      "||        Count read pairs : \u001b[36mno\u001b[0m \u001b[0m                                              ||\n",
      "||              Annotation : \u001b[36mensembl.105.annotation.gtf (GTF)\u001b[0m \u001b[0m                ||\n",
      "||      Dir for temp files : \u001b[36m./\u001b[0m \u001b[0m                                              ||\n",
      "||  \u001b[0m                                                                          ||\n",
      "||                 Threads : \u001b[36m4\u001b[0m \u001b[0m                                               ||\n",
      "||                   Level : \u001b[36mmeta-feature level\u001b[0m \u001b[0m                              ||\n",
      "||      Multimapping reads : \u001b[36mnot counted\u001b[0m \u001b[0m                                     ||\n",
      "|| Multi-overlapping reads : \u001b[36mnot counted\u001b[0m \u001b[0m                                     ||\n",
      "||   Min overlapping bases : \u001b[36m1\u001b[0m \u001b[0m                                               ||\n",
      "||  \u001b[0m                                                                          ||\n",
      "\\\\============================================================================//\n",
      "\n",
      "//=================================\u001b[36m Running \u001b[0m==================================\\\\\n",
      "||  \u001b[0m                                                                          ||\n",
      "|| Load annotation file ensembl.105.annotation.gtf \u001b[0m... \u001b[0m                       ||\n",
      "||    Features : \u001b[36m1552026\u001b[0m \u001b[0m                                                     ||\n",
      "||    Meta-features : \u001b[36m61541\u001b[0m \u001b[0m                                                  ||\n",
      "||    Chromosomes/contigs : \u001b[36m47\u001b[0m \u001b[0m                                               ||\n",
      "||  \u001b[0m                                                                          ||\n",
      "|| Process BAM file SUM159_24h_R1.bam... \u001b[0m                                     ||\n",
      "||    Single-end reads are included. \u001b[0m                                         ||\n",
      "||    Total alignments : \u001b[36m22189227\u001b[0m \u001b[0m                                            ||\n",
      "||    Successfully assigned alignments : \u001b[36m12730408 (57.4%)\u001b[0m \u001b[0m                    ||\n",
      "||    Running time : \u001b[36m0.27 minutes\u001b[0m \u001b[0m                                            ||\n",
      "||  \u001b[0m                                                                          ||\n",
      "|| Process BAM file SUM159_24h_R2.bam... \u001b[0m                                     ||\n",
      "||    Single-end reads are included. \u001b[0m                                         ||\n",
      "||    Total alignments : \u001b[36m50871150\u001b[0m \u001b[0m                                            ||\n",
      "||    Successfully assigned alignments : \u001b[36m29461647 (57.9%)\u001b[0m \u001b[0m                    ||\n",
      "||    Running time : \u001b[36m0.64 minutes\u001b[0m \u001b[0m                                            ||\n",
      "||  \u001b[0m                                                                          ||\n",
      "|| Process BAM file SUM159R_24h_R1.bam... \u001b[0m                                    ||\n",
      "||    Single-end reads are included. \u001b[0m                                         ||\n",
      "||    Total alignments : \u001b[36m53500081\u001b[0m \u001b[0m                                            ||\n",
      "||    Successfully assigned alignments : \u001b[36m31964377 (59.7%)\u001b[0m \u001b[0m                    ||\n",
      "||    Running time : \u001b[36m0.68 minutes\u001b[0m \u001b[0m                                            ||\n",
      "||  \u001b[0m                                                                          ||\n",
      "|| Process BAM file SUM159R_24h_R2.bam... \u001b[0m                                    ||\n",
      "||    Single-end reads are included. \u001b[0m                                         ||\n",
      "||    Total alignments : \u001b[36m34863588\u001b[0m \u001b[0m                                            ||\n",
      "||    Successfully assigned alignments : \u001b[36m20473798 (58.7%)\u001b[0m \u001b[0m                    ||\n",
      "||    Running time : \u001b[36m0.45 minutes\u001b[0m \u001b[0m                                            ||\n",
      "||  \u001b[0m                                                                          ||\n",
      "|| Write the final count table. \u001b[0m                                              ||\n",
      "|| Write the read assignment summary. \u001b[0m                                        ||\n",
      "||  \u001b[0m                                                                          ||\n",
      "|| Summary of counting results can be found in file \"counts.featurecounts.hi \u001b[0m ||\n",
      "|| sat2.tsv.summary\" \u001b[0m                                                         ||\n",
      "||  \u001b[0m                                                                          ||\n",
      "\\\\============================================================================//\n",
      "\n"
     ]
    }
   ],
   "source": [
    "! cd ./alignments/bulk/ &&  ../../tools/subread-2.0.3-source/bin/featureCounts -T 4 -t exon -g gene_id -a ../../references/ensembl.105.annotation.gtf -o counts.featurecounts.hisat2.tsv SUM159_24h_R1.bam SUM159_24h_R2.bam SUM159R_24h_R1.bam SUM159R_24h_R2.bam"
   ]
  },
  {
   "cell_type": "markdown",
   "metadata": {},
   "source": [
    "This summary tells us how well the mapping could be assigned to read-counts. Some reads could not be aligned due to multimapping - possibly because the read length was chosen to be too short."
   ]
  },
  {
   "cell_type": "code",
   "execution_count": 25,
   "metadata": {},
   "outputs": [
    {
     "name": "stdout",
     "output_type": "stream",
     "text": [
      "Status\tSUM159_24h_R1.bam\tSUM159_24h_R2.bam\tSUM159R_24h_R1.bam\tSUM159R_24h_R2.bam\n",
      "Assigned\t12730408\t29461647\t31964377\t20473798\n",
      "Unassigned_Unmapped\t1101887\t1926278\t1944297\t1520084\n",
      "Unassigned_Read_Type\t0\t0\t0\t0\n",
      "Unassigned_Singleton\t0\t0\t0\t0\n",
      "Unassigned_MappingQuality\t0\t0\t0\t0\n",
      "Unassigned_Chimera\t0\t0\t0\t0\n",
      "Unassigned_FragmentLength\t0\t0\t0\t0\n",
      "Unassigned_Duplicate\t0\t0\t0\t0\n",
      "Unassigned_MultiMapping\t6488761\t15144678\t15243105\t10011071\n",
      "Unassigned_Secondary\t0\t0\t0\t0\n",
      "Unassigned_NonSplit\t0\t0\t0\t0\n",
      "Unassigned_NoFeatures\t765478\t1736538\t1548873\t1132298\n",
      "Unassigned_Overlapping_Length\t0\t0\t0\t0\n",
      "Unassigned_Ambiguity\t1102693\t2602009\t2799429\t1726337\n"
     ]
    }
   ],
   "source": [
    "! cat ./alignments/bulk/counts.featurecounts.hisat2.tsv.summary"
   ]
  }
 ],
 "metadata": {
  "interpreter": {
   "hash": "31f2aee4e71d21fbe5cf8b01ff0e069b9275f58929596ceb00d14d90e3e16cd6"
  },
  "kernelspec": {
   "display_name": "Python 3.8.10 64-bit",
   "language": "python",
   "name": "python3"
  },
  "language_info": {
   "codemirror_mode": {
    "name": "ipython",
    "version": 3
   },
   "file_extension": ".py",
   "mimetype": "text/x-python",
   "name": "python",
   "nbconvert_exporter": "python",
   "pygments_lexer": "ipython3",
   "version": "3.8.10"
  },
  "orig_nbformat": 4
 },
 "nbformat": 4,
 "nbformat_minor": 2
}
